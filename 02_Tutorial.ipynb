{
  "nbformat": 4,
  "nbformat_minor": 0,
  "metadata": {
    "accelerator": "GPU",
    "anaconda-cloud": {},
    "colab": {
      "name": "02_Tutorial.ipynb",
      "version": "0.3.2",
      "provenance": [],
      "collapsed_sections": [
        "ZR8MP4NaJStc"
      ],
      "toc_visible": true,
      "include_colab_link": true
    },
    "kernelspec": {
      "name": "python3",
      "display_name": "Python 3"
    }
  },
  "cells": [
    {
      "cell_type": "markdown",
      "metadata": {
        "id": "view-in-github",
        "colab_type": "text"
      },
      "source": [
        "<a href=\"https://colab.research.google.com/github/DionKimmm/2019-3rd-ml-month-with-kakr/blob/master/02_Tutorial.ipynb\" target=\"_parent\"><img src=\"https://colab.research.google.com/assets/colab-badge.svg\" alt=\"Open In Colab\"/></a>"
      ]
    },
    {
      "cell_type": "markdown",
      "metadata": {
        "colab_type": "text",
        "id": "j1_dRFRhJC4o"
      },
      "source": [
        "참고 자료 : \n",
        "\n",
        "https://www.kaggle.com/fulrose/3rd-ml-month-car-model-classification-baseline"
      ]
    },
    {
      "cell_type": "markdown",
      "metadata": {
        "colab_type": "text",
        "id": "ZR8MP4NaJStc"
      },
      "source": [
        "# 준비 단계\n",
        "* 구글 드라이브와 코랩 연동\n",
        "* 캐글과 코랩 연동\n",
        "* 데이터셋 다운로드"
      ]
    },
    {
      "cell_type": "markdown",
      "metadata": {
        "colab_type": "text",
        "id": "EHlQePjGJgF-"
      },
      "source": [
        "## 구글 드라이브와 코랩 연동"
      ]
    },
    {
      "cell_type": "code",
      "metadata": {
        "colab_type": "code",
        "id": "7ugCzanI32Up",
        "outputId": "b1d947b3-7e54-4ed4-e03c-a90b77e88286",
        "colab": {
          "base_uri": "https://localhost:8080/",
          "height": 34
        }
      },
      "source": [
        "from google.colab import drive\n",
        "drive.mount('/content/drive')"
      ],
      "execution_count": 1,
      "outputs": [
        {
          "output_type": "stream",
          "text": [
            "Drive already mounted at /content/drive; to attempt to forcibly remount, call drive.mount(\"/content/drive\", force_remount=True).\n"
          ],
          "name": "stdout"
        }
      ]
    },
    {
      "cell_type": "markdown",
      "metadata": {
        "colab_type": "text",
        "id": "wjB7MqlELB0D"
      },
      "source": [
        "## 캐글과 코랩 연동\n",
        "\n",
        "https://github.com/DionKimmm/2019-3rd-ml-month-with-kakr/blob/master/01_Run_Kaggle_Kernel_on_Colab.ipynb"
      ]
    },
    {
      "cell_type": "markdown",
      "metadata": {
        "colab_type": "text",
        "id": "wKC6B-NSLtLF"
      },
      "source": [
        "## 데이터셋 다운로드"
      ]
    },
    {
      "cell_type": "markdown",
      "metadata": {
        "colab_type": "text",
        "id": "pLkgEV15LyV1"
      },
      "source": [
        "### 경로 설정 컨트롤을 잘 해줘야 할듯 하다."
      ]
    },
    {
      "cell_type": "code",
      "metadata": {
        "colab_type": "code",
        "id": "P-frOTpd4PdF",
        "outputId": "cf5f160e-11b1-44d7-e43c-50b7d8602e1f",
        "colab": {
          "base_uri": "https://localhost:8080/",
          "height": 34
        }
      },
      "source": [
        "%cd 2019_3rd_ML_month_with_KaKR/"
      ],
      "execution_count": 2,
      "outputs": [
        {
          "output_type": "stream",
          "text": [
            "/content/2019_3rd_ML_month_with_KaKR\n"
          ],
          "name": "stdout"
        }
      ]
    },
    {
      "cell_type": "code",
      "metadata": {
        "colab_type": "code",
        "id": "43G206iq5wdC",
        "colab": {}
      },
      "source": [
        "%mkdir -p '2019_3rd_ML_month_with_KaKR'"
      ],
      "execution_count": 0,
      "outputs": []
    },
    {
      "cell_type": "markdown",
      "metadata": {
        "colab_type": "text",
        "id": "rXJweMvMJpBQ"
      },
      "source": [
        "* 캐글 컴피티션의 Data 란에 있는 API를 이용하여 다운로드 시  -p '경로' 를 통해 경로를 지정할 수 있다."
      ]
    },
    {
      "cell_type": "code",
      "metadata": {
        "colab_type": "code",
        "id": "4WLOmqhl7JYL",
        "outputId": "3de64b97-a0b3-459f-b6c1-485df1b06ae3",
        "colab": {
          "base_uri": "https://localhost:8080/",
          "height": 122
        }
      },
      "source": [
        "!kaggle competitions download -c 2019-3rd-ml-month-with-kakr -p '/content/drive/My Drive/Colab Notebooks/2019_3rd_ML_month_with_KaKR'"
      ],
      "execution_count": 4,
      "outputs": [
        {
          "output_type": "stream",
          "text": [
            "class.csv: Skipping, found more recently modified local copy (use --force to force download)\n",
            "test.zip: Skipping, found more recently modified local copy (use --force to force download)\n",
            "train.zip: Skipping, found more recently modified local copy (use --force to force download)\n",
            "sample_submission.csv: Skipping, found more recently modified local copy (use --force to force download)\n",
            "test.csv: Skipping, found more recently modified local copy (use --force to force download)\n",
            "train.csv: Skipping, found more recently modified local copy (use --force to force download)\n"
          ],
          "name": "stdout"
        }
      ]
    },
    {
      "cell_type": "markdown",
      "metadata": {
        "colab_type": "text",
        "id": "LaSFUpyFMyXY"
      },
      "source": [
        "* 이미지셋은 따로 폴더를 만들어 unzip 하도록 한다"
      ]
    },
    {
      "cell_type": "code",
      "metadata": {
        "colab_type": "code",
        "id": "gvTKvs-57qgL",
        "colab": {}
      },
      "source": [
        "%mkdir -p 'train'"
      ],
      "execution_count": 0,
      "outputs": []
    },
    {
      "cell_type": "code",
      "metadata": {
        "colab_type": "code",
        "id": "tZ1hrcMb7zbU",
        "outputId": "c5cc442b-93e5-4f98-a3ba-167dccdc55cb",
        "colab": {
          "base_uri": "https://localhost:8080/",
          "height": 34
        }
      },
      "source": [
        "!unzip train.zip -d train"
      ],
      "execution_count": 6,
      "outputs": [
        {
          "output_type": "stream",
          "text": [
            "unzip:  cannot find or open train.zip, train.zip.zip or train.zip.ZIP.\n"
          ],
          "name": "stdout"
        }
      ]
    },
    {
      "cell_type": "code",
      "metadata": {
        "colab_type": "code",
        "id": "QQ4yeXvFLNwY",
        "colab": {}
      },
      "source": [
        "%mkdir -p 'test'"
      ],
      "execution_count": 0,
      "outputs": []
    },
    {
      "cell_type": "code",
      "metadata": {
        "colab_type": "code",
        "id": "O74qPEA8LUnA",
        "outputId": "13dfe1bc-f849-4400-931e-53dfb614b08d",
        "colab": {
          "base_uri": "https://localhost:8080/",
          "height": 34
        }
      },
      "source": [
        "!unzip test.zip -d test"
      ],
      "execution_count": 8,
      "outputs": [
        {
          "output_type": "stream",
          "text": [
            "unzip:  cannot find or open test.zip, test.zip.zip or test.zip.ZIP.\n"
          ],
          "name": "stdout"
        }
      ]
    },
    {
      "cell_type": "markdown",
      "metadata": {
        "colab_type": "text",
        "id": "FNuplSQt4sP-"
      },
      "source": [
        "# 데이터 탐험 준비"
      ]
    },
    {
      "cell_type": "markdown",
      "metadata": {
        "colab_type": "text",
        "id": "TsFKK3asNxJz"
      },
      "source": [
        "## 라이브러리 로드하기"
      ]
    },
    {
      "cell_type": "code",
      "metadata": {
        "colab_type": "code",
        "id": "fGO4am7eOe7o",
        "outputId": "68afafa4-c73c-482e-8d04-2f04415d90ce",
        "colab": {
          "base_uri": "https://localhost:8080/",
          "height": 52
        }
      },
      "source": [
        "import gc\n",
        "import os\n",
        "import warnings\n",
        "import numpy as np \n",
        "import pandas as pd\n",
        "import seaborn as sns\n",
        "import matplotlib.pyplot as plt\n",
        "from tqdm import tqdm\n",
        "\n",
        "from keras import backend as K\n",
        "warnings.filterwarnings(action='ignore')\n",
        "\n",
        "K.image_data_format()"
      ],
      "execution_count": 9,
      "outputs": [
        {
          "output_type": "stream",
          "text": [
            "Using TensorFlow backend.\n"
          ],
          "name": "stderr"
        },
        {
          "output_type": "execute_result",
          "data": {
            "text/plain": [
              "'channels_last'"
            ]
          },
          "metadata": {
            "tags": []
          },
          "execution_count": 9
        }
      ]
    },
    {
      "cell_type": "markdown",
      "metadata": {
        "colab_type": "text",
        "id": "jYr5o1CFOiIp"
      },
      "source": [
        "## 파일 로드하기 "
      ]
    },
    {
      "cell_type": "markdown",
      "metadata": {
        "colab_type": "text",
        "id": "91wnJl92O79w"
      },
      "source": [
        "### 내 위치를 모를 경우 !pwd를 사용하여 경로를 파악합니다."
      ]
    },
    {
      "cell_type": "code",
      "metadata": {
        "colab_type": "code",
        "id": "UJLbGkFdOtnZ",
        "outputId": "a96e63ae-97ad-4ef5-bdc6-7a507c8de23a",
        "colab": {
          "base_uri": "https://localhost:8080/",
          "height": 34
        }
      },
      "source": [
        "!pwd"
      ],
      "execution_count": 10,
      "outputs": [
        {
          "output_type": "stream",
          "text": [
            "/content/2019_3rd_ML_month_with_KaKR\n"
          ],
          "name": "stdout"
        }
      ]
    },
    {
      "cell_type": "code",
      "metadata": {
        "colab_type": "code",
        "id": "OTupGpv0OoQA",
        "outputId": "6183cf08-3cc7-4195-f244-909f9c6e1b92",
        "colab": {
          "base_uri": "https://localhost:8080/",
          "height": 158
        }
      },
      "source": [
        "DATA_PATH = '/content/drive/My Drive/Colab Notebooks/2019_3rd_ML_month_with_KaKR'\n",
        "os.listdir(DATA_PATH)"
      ],
      "execution_count": 11,
      "outputs": [
        {
          "output_type": "execute_result",
          "data": {
            "text/plain": [
              "['class.csv',\n",
              " 'test.zip',\n",
              " 'train.zip',\n",
              " 'sample_submission.csv',\n",
              " 'test.csv',\n",
              " 'train.csv',\n",
              " 'train',\n",
              " 'test']"
            ]
          },
          "metadata": {
            "tags": []
          },
          "execution_count": 11
        }
      ]
    },
    {
      "cell_type": "code",
      "metadata": {
        "colab_type": "code",
        "id": "jAX94AK1OiY8",
        "colab": {}
      },
      "source": [
        "# 이미지 폴더 경로\n",
        "TRAIN_IMG_PATH = os.path.join(DATA_PATH, 'train')\n",
        "TEST_IMG_PATH = os.path.join(DATA_PATH, 'test')\n",
        "\n",
        "# CSV 파일 경로\n",
        "df_train = pd.read_csv(os.path.join(DATA_PATH, 'train.csv'))\n",
        "df_test = pd.read_csv(os.path.join(DATA_PATH, 'test.csv'))\n",
        "df_class = pd.read_csv(os.path.join(DATA_PATH, 'class.csv'))"
      ],
      "execution_count": 0,
      "outputs": []
    },
    {
      "cell_type": "markdown",
      "metadata": {
        "colab_type": "text",
        "id": "y4R0nxZW4tRS"
      },
      "source": [
        "# 데이터 탐험"
      ]
    },
    {
      "cell_type": "markdown",
      "metadata": {
        "colab_type": "text",
        "id": "EVgr7fzKPzxc"
      },
      "source": [
        "### head() 를 써봄으로써 대략적인 칼럼을 파악할 수 있습니다."
      ]
    },
    {
      "cell_type": "code",
      "metadata": {
        "colab_type": "code",
        "id": "mmyxXwQ0PPfG",
        "outputId": "81429b46-bafe-4708-c8f3-226ba4f30bea",
        "colab": {
          "base_uri": "https://localhost:8080/",
          "height": 195
        }
      },
      "source": [
        "df_train.head()"
      ],
      "execution_count": 13,
      "outputs": [
        {
          "output_type": "execute_result",
          "data": {
            "text/html": [
              "<div>\n",
              "<style scoped>\n",
              "    .dataframe tbody tr th:only-of-type {\n",
              "        vertical-align: middle;\n",
              "    }\n",
              "\n",
              "    .dataframe tbody tr th {\n",
              "        vertical-align: top;\n",
              "    }\n",
              "\n",
              "    .dataframe thead th {\n",
              "        text-align: right;\n",
              "    }\n",
              "</style>\n",
              "<table border=\"1\" class=\"dataframe\">\n",
              "  <thead>\n",
              "    <tr style=\"text-align: right;\">\n",
              "      <th></th>\n",
              "      <th>img_file</th>\n",
              "      <th>bbox_x1</th>\n",
              "      <th>bbox_y1</th>\n",
              "      <th>bbox_x2</th>\n",
              "      <th>bbox_y2</th>\n",
              "      <th>class</th>\n",
              "    </tr>\n",
              "  </thead>\n",
              "  <tbody>\n",
              "    <tr>\n",
              "      <th>0</th>\n",
              "      <td>train_00001.jpg</td>\n",
              "      <td>1</td>\n",
              "      <td>80</td>\n",
              "      <td>641</td>\n",
              "      <td>461</td>\n",
              "      <td>108</td>\n",
              "    </tr>\n",
              "    <tr>\n",
              "      <th>1</th>\n",
              "      <td>train_00002.jpg</td>\n",
              "      <td>57</td>\n",
              "      <td>53</td>\n",
              "      <td>293</td>\n",
              "      <td>236</td>\n",
              "      <td>71</td>\n",
              "    </tr>\n",
              "    <tr>\n",
              "      <th>2</th>\n",
              "      <td>train_00003.jpg</td>\n",
              "      <td>35</td>\n",
              "      <td>42</td>\n",
              "      <td>227</td>\n",
              "      <td>160</td>\n",
              "      <td>76</td>\n",
              "    </tr>\n",
              "    <tr>\n",
              "      <th>3</th>\n",
              "      <td>train_00004.jpg</td>\n",
              "      <td>10</td>\n",
              "      <td>21</td>\n",
              "      <td>254</td>\n",
              "      <td>165</td>\n",
              "      <td>188</td>\n",
              "    </tr>\n",
              "    <tr>\n",
              "      <th>4</th>\n",
              "      <td>train_00005.jpg</td>\n",
              "      <td>1</td>\n",
              "      <td>67</td>\n",
              "      <td>772</td>\n",
              "      <td>573</td>\n",
              "      <td>44</td>\n",
              "    </tr>\n",
              "  </tbody>\n",
              "</table>\n",
              "</div>"
            ],
            "text/plain": [
              "          img_file  bbox_x1  bbox_y1  bbox_x2  bbox_y2  class\n",
              "0  train_00001.jpg        1       80      641      461    108\n",
              "1  train_00002.jpg       57       53      293      236     71\n",
              "2  train_00003.jpg       35       42      227      160     76\n",
              "3  train_00004.jpg       10       21      254      165    188\n",
              "4  train_00005.jpg        1       67      772      573     44"
            ]
          },
          "metadata": {
            "tags": []
          },
          "execution_count": 13
        }
      ]
    },
    {
      "cell_type": "code",
      "metadata": {
        "colab_type": "code",
        "id": "Qj_rqE_DPaya",
        "outputId": "24d36e3a-4728-43ac-86fe-2accecf272ed",
        "colab": {
          "base_uri": "https://localhost:8080/",
          "height": 195
        }
      },
      "source": [
        "df_test.head()"
      ],
      "execution_count": 14,
      "outputs": [
        {
          "output_type": "execute_result",
          "data": {
            "text/html": [
              "<div>\n",
              "<style scoped>\n",
              "    .dataframe tbody tr th:only-of-type {\n",
              "        vertical-align: middle;\n",
              "    }\n",
              "\n",
              "    .dataframe tbody tr th {\n",
              "        vertical-align: top;\n",
              "    }\n",
              "\n",
              "    .dataframe thead th {\n",
              "        text-align: right;\n",
              "    }\n",
              "</style>\n",
              "<table border=\"1\" class=\"dataframe\">\n",
              "  <thead>\n",
              "    <tr style=\"text-align: right;\">\n",
              "      <th></th>\n",
              "      <th>img_file</th>\n",
              "      <th>bbox_x1</th>\n",
              "      <th>bbox_y1</th>\n",
              "      <th>bbox_x2</th>\n",
              "      <th>bbox_y2</th>\n",
              "    </tr>\n",
              "  </thead>\n",
              "  <tbody>\n",
              "    <tr>\n",
              "      <th>0</th>\n",
              "      <td>test_00001.jpg</td>\n",
              "      <td>199</td>\n",
              "      <td>184</td>\n",
              "      <td>1116</td>\n",
              "      <td>809</td>\n",
              "    </tr>\n",
              "    <tr>\n",
              "      <th>1</th>\n",
              "      <td>test_00002.jpg</td>\n",
              "      <td>55</td>\n",
              "      <td>61</td>\n",
              "      <td>480</td>\n",
              "      <td>257</td>\n",
              "    </tr>\n",
              "    <tr>\n",
              "      <th>2</th>\n",
              "      <td>test_00003.jpg</td>\n",
              "      <td>42</td>\n",
              "      <td>123</td>\n",
              "      <td>602</td>\n",
              "      <td>413</td>\n",
              "    </tr>\n",
              "    <tr>\n",
              "      <th>3</th>\n",
              "      <td>test_00004.jpg</td>\n",
              "      <td>13</td>\n",
              "      <td>8</td>\n",
              "      <td>619</td>\n",
              "      <td>393</td>\n",
              "    </tr>\n",
              "    <tr>\n",
              "      <th>4</th>\n",
              "      <td>test_00005.jpg</td>\n",
              "      <td>8</td>\n",
              "      <td>9</td>\n",
              "      <td>209</td>\n",
              "      <td>93</td>\n",
              "    </tr>\n",
              "  </tbody>\n",
              "</table>\n",
              "</div>"
            ],
            "text/plain": [
              "         img_file  bbox_x1  bbox_y1  bbox_x2  bbox_y2\n",
              "0  test_00001.jpg      199      184     1116      809\n",
              "1  test_00002.jpg       55       61      480      257\n",
              "2  test_00003.jpg       42      123      602      413\n",
              "3  test_00004.jpg       13        8      619      393\n",
              "4  test_00005.jpg        8        9      209       93"
            ]
          },
          "metadata": {
            "tags": []
          },
          "execution_count": 14
        }
      ]
    },
    {
      "cell_type": "code",
      "metadata": {
        "colab_type": "code",
        "id": "hntGus5VPcKJ",
        "outputId": "a19a8a21-6140-4032-e4e2-7587f732c097",
        "colab": {
          "base_uri": "https://localhost:8080/",
          "height": 195
        }
      },
      "source": [
        "df_class.head()"
      ],
      "execution_count": 15,
      "outputs": [
        {
          "output_type": "execute_result",
          "data": {
            "text/html": [
              "<div>\n",
              "<style scoped>\n",
              "    .dataframe tbody tr th:only-of-type {\n",
              "        vertical-align: middle;\n",
              "    }\n",
              "\n",
              "    .dataframe tbody tr th {\n",
              "        vertical-align: top;\n",
              "    }\n",
              "\n",
              "    .dataframe thead th {\n",
              "        text-align: right;\n",
              "    }\n",
              "</style>\n",
              "<table border=\"1\" class=\"dataframe\">\n",
              "  <thead>\n",
              "    <tr style=\"text-align: right;\">\n",
              "      <th></th>\n",
              "      <th>id</th>\n",
              "      <th>name</th>\n",
              "    </tr>\n",
              "  </thead>\n",
              "  <tbody>\n",
              "    <tr>\n",
              "      <th>0</th>\n",
              "      <td>1</td>\n",
              "      <td>AM General Hummer SUV 2000</td>\n",
              "    </tr>\n",
              "    <tr>\n",
              "      <th>1</th>\n",
              "      <td>2</td>\n",
              "      <td>Acura RL Sedan 2012</td>\n",
              "    </tr>\n",
              "    <tr>\n",
              "      <th>2</th>\n",
              "      <td>3</td>\n",
              "      <td>Acura TL Sedan 2012</td>\n",
              "    </tr>\n",
              "    <tr>\n",
              "      <th>3</th>\n",
              "      <td>4</td>\n",
              "      <td>Acura TL Type-S 2008</td>\n",
              "    </tr>\n",
              "    <tr>\n",
              "      <th>4</th>\n",
              "      <td>5</td>\n",
              "      <td>Acura TSX Sedan 2012</td>\n",
              "    </tr>\n",
              "  </tbody>\n",
              "</table>\n",
              "</div>"
            ],
            "text/plain": [
              "   id                        name\n",
              "0   1  AM General Hummer SUV 2000\n",
              "1   2         Acura RL Sedan 2012\n",
              "2   3         Acura TL Sedan 2012\n",
              "3   4        Acura TL Type-S 2008\n",
              "4   5        Acura TSX Sedan 2012"
            ]
          },
          "metadata": {
            "tags": []
          },
          "execution_count": 15
        }
      ]
    },
    {
      "cell_type": "markdown",
      "metadata": {
        "colab_type": "text",
        "id": "JcbFGQV5PvV4"
      },
      "source": [
        "### Data 누락 체크"
      ]
    },
    {
      "cell_type": "code",
      "metadata": {
        "colab_type": "code",
        "id": "U3TQgFSNQOfU",
        "outputId": "86aa5053-47e1-456e-c29d-e3fd4127d151",
        "colab": {
          "base_uri": "https://localhost:8080/",
          "height": 52
        }
      },
      "source": [
        "if set(list(df_train.img_file)) == set(os.listdir(TRAIN_IMG_PATH)) :\n",
        "    print(\"Train file 누락 없음!\")\n",
        "else : \n",
        "    print(\"Train file 누락\")\n",
        "\n",
        "if set(list(df_test.img_file)) == set(os.listdir(TEST_IMG_PATH)) :\n",
        "    print(\"Test file 누락 없음!\")\n",
        "else : \n",
        "    print(\"Test file 누락\")"
      ],
      "execution_count": 16,
      "outputs": [
        {
          "output_type": "stream",
          "text": [
            "Train file 누락 없음!\n",
            "Test file 누락 없음!\n"
          ],
          "name": "stdout"
        }
      ]
    },
    {
      "cell_type": "markdown",
      "metadata": {
        "colab_type": "text",
        "id": "qoKvNyX9QfrN"
      },
      "source": [
        "아니 이게 어떻게 돌아가는 거지? 파헤쳐 보자"
      ]
    },
    {
      "cell_type": "code",
      "metadata": {
        "colab_type": "code",
        "id": "qrL7mrsqQRC8",
        "colab": {}
      },
      "source": [
        "tempSet = set(list(df_train.img_file))"
      ],
      "execution_count": 0,
      "outputs": []
    },
    {
      "cell_type": "code",
      "metadata": {
        "colab_type": "code",
        "id": "QWHsdB_zRGwI",
        "outputId": "4ce3715c-6b2a-477f-8189-a06b5aff91cf",
        "colab": {
          "base_uri": "https://localhost:8080/",
          "height": 169
        }
      },
      "source": [
        "print(tempSet.count) # 이게 아니라"
      ],
      "execution_count": 20,
      "outputs": [
        {
          "output_type": "error",
          "ename": "AttributeError",
          "evalue": "ignored",
          "traceback": [
            "\u001b[0;31m---------------------------------------------------------------------------\u001b[0m",
            "\u001b[0;31mAttributeError\u001b[0m                            Traceback (most recent call last)",
            "\u001b[0;32m<ipython-input-20-17d0ececbaad>\u001b[0m in \u001b[0;36m<module>\u001b[0;34m()\u001b[0m\n\u001b[0;32m----> 1\u001b[0;31m \u001b[0mprint\u001b[0m\u001b[0;34m(\u001b[0m\u001b[0mtempSet\u001b[0m\u001b[0;34m.\u001b[0m\u001b[0mcount\u001b[0m\u001b[0;34m)\u001b[0m \u001b[0;31m# 이게 아니라\u001b[0m\u001b[0;34m\u001b[0m\u001b[0;34m\u001b[0m\u001b[0m\n\u001b[0m",
            "\u001b[0;31mAttributeError\u001b[0m: 'set' object has no attribute 'count'"
          ]
        }
      ]
    },
    {
      "cell_type": "code",
      "metadata": {
        "colab_type": "code",
        "id": "7C5YJblkRUnW",
        "outputId": "927b562b-7952-4d09-e3ba-9fecdb0830fd",
        "colab": {
          "base_uri": "https://localhost:8080/",
          "height": 34
        }
      },
      "source": [
        "print(len(tempSet)) # 이거다!"
      ],
      "execution_count": 21,
      "outputs": [
        {
          "output_type": "stream",
          "text": [
            "9990\n"
          ],
          "name": "stdout"
        }
      ]
    },
    {
      "cell_type": "markdown",
      "metadata": {
        "colab_type": "text",
        "id": "0cNcvjW_RmBV"
      },
      "source": [
        "### Data 갯수"
      ]
    },
    {
      "cell_type": "code",
      "metadata": {
        "colab_type": "code",
        "id": "hGGnwRQPRord",
        "outputId": "33aa8618-85ed-4431-b76e-f5de9367e1cf",
        "colab": {
          "base_uri": "https://localhost:8080/",
          "height": 52
        }
      },
      "source": [
        "print(\"Number of Train Data : {}\".format(df_train.shape[0]))\n",
        "print(\"Number of Test Data : {}\".format(df_test.shape[0]))"
      ],
      "execution_count": 22,
      "outputs": [
        {
          "output_type": "stream",
          "text": [
            "Number of Train Data : 9990\n",
            "Number of Test Data : 6150\n"
          ],
          "name": "stdout"
        }
      ]
    },
    {
      "cell_type": "code",
      "metadata": {
        "colab_type": "code",
        "id": "3SoX7LeERu7Q",
        "outputId": "9ab2fe79-fa25-47ad-80c0-342c0b77ba2d",
        "colab": {
          "base_uri": "https://localhost:8080/",
          "height": 52
        }
      },
      "source": [
        "print(\"타겟 클래스 총 갯수 : {}\".format(df_class.shape[0]))\n",
        "print(\"Train Data의 타겟 종류 갯수 : {}\".format(df_train['class'].nunique()))"
      ],
      "execution_count": 23,
      "outputs": [
        {
          "output_type": "stream",
          "text": [
            "타겟 클래스 총 갯수 : 196\n",
            "Train Data의 타겟 종류 갯수 : 196\n"
          ],
          "name": "stdout"
        }
      ]
    },
    {
      "cell_type": "markdown",
      "metadata": {
        "colab_type": "text",
        "id": "PK5CkWIpSHSL"
      },
      "source": [
        "### 클래스 분포"
      ]
    },
    {
      "cell_type": "code",
      "metadata": {
        "colab_type": "code",
        "id": "sEa42I5WSJLQ",
        "outputId": "e5f98f83-cf0a-415d-d4d6-26509e773692",
        "colab": {
          "base_uri": "https://localhost:8080/",
          "height": 422
        }
      },
      "source": [
        "plt.figure(figsize=(12, 6))\n",
        "sns.countplot(df_train['class'], order=df_train['class'].value_counts(ascending=True).index)\n",
        "plt.title('차 종류에 따른 데이터 수')"
      ],
      "execution_count": 24,
      "outputs": [
        {
          "output_type": "execute_result",
          "data": {
            "text/plain": [
              "Text(0.5, 1.0, '차 종류에 따른 데이터 수')"
            ]
          },
          "metadata": {
            "tags": []
          },
          "execution_count": 24
        },
        {
          "output_type": "display_data",
          "data": {
            "image/png": "[encoded data removed]",
            "text/plain": [
              "<Figure size 864x432 with 1 Axes>"
            ]
          },
          "metadata": {
            "tags": []
          }
        }
      ]
    },
    {
      "cell_type": "markdown",
      "metadata": {
        "colab_type": "text",
        "id": "uDonJIqESoiV"
      },
      "source": [
        "### 앗 한글이 깨져버렸잖아?!\n",
        "* https://github.com/DionKimmm/2019SummerML/blob/master/Day12_1_%ED%95%9C%EA%B8%80%ED%8F%B0%ED%8A%B8_%2B_ML_algorithms.ipynb"
      ]
    },
    {
      "cell_type": "code",
      "metadata": {
        "colab_type": "code",
        "id": "3ZhW5EoCUh_M",
        "outputId": "77ed3896-7205-4114-caf2-cdf5f719970d",
        "colab": {
          "base_uri": "https://localhost:8080/",
          "height": 633
        }
      },
      "source": [
        "\n",
        "!apt-get install fonts-nanum*\n",
        "!apt-get install fontconfig\n",
        "!fc-cache -fv\n",
        "!cp /usr/share/fonts/truetype/nanum/Nanum* /usr/local/lib/python3.6/dist-packages/matplotlib/mpl-data/fonts/ttf/\n",
        "!rm -rf /content/.cache/matplotlib/*"
      ],
      "execution_count": 25,
      "outputs": [
        {
          "output_type": "stream",
          "text": [
            "Reading package lists... Done\n",
            "Building dependency tree       \n",
            "Reading state information... Done\n",
            "Note, selecting 'fonts-nanum-eco' for glob 'fonts-nanum*'\n",
            "Note, selecting 'fonts-nanum' for glob 'fonts-nanum*'\n",
            "Note, selecting 'fonts-nanum-gothic-light' for glob 'fonts-nanum*'\n",
            "Note, selecting 'fonts-nanum-coding' for glob 'fonts-nanum*'\n",
            "Note, selecting 'fonts-nanum-extra' for glob 'fonts-nanum*'\n",
            "fonts-nanum is already the newest version (20170925-1).\n",
            "fonts-nanum-coding is already the newest version (2.5-1).\n",
            "fonts-nanum-eco is already the newest version (1.000-6).\n",
            "fonts-nanum-extra is already the newest version (20170925-1).\n",
            "The following package was automatically installed and is no longer required:\n",
            "  libnvidia-common-410\n",
            "Use 'apt autoremove' to remove it.\n",
            "0 upgraded, 0 newly installed, 0 to remove and 4 not upgraded.\n",
            "Reading package lists... Done\n",
            "Building dependency tree       \n",
            "Reading state information... Done\n",
            "fontconfig is already the newest version (2.12.6-0ubuntu2).\n",
            "The following package was automatically installed and is no longer required:\n",
            "  libnvidia-common-410\n",
            "Use 'apt autoremove' to remove it.\n",
            "0 upgraded, 0 newly installed, 0 to remove and 4 not upgraded.\n",
            "/usr/share/fonts: caching, new cache contents: 0 fonts, 1 dirs\n",
            "/usr/share/fonts/truetype: caching, new cache contents: 0 fonts, 2 dirs\n",
            "/usr/share/fonts/truetype/liberation: caching, new cache contents: 16 fonts, 0 dirs\n",
            "/usr/share/fonts/truetype/nanum: caching, new cache contents: 31 fonts, 0 dirs\n",
            "/usr/local/share/fonts: caching, new cache contents: 0 fonts, 0 dirs\n",
            "/root/.local/share/fonts: skipping, no such directory\n",
            "/root/.fonts: skipping, no such directory\n",
            "/var/cache/fontconfig: cleaning cache directory\n",
            "/root/.cache/fontconfig: not cleaning non-existent cache directory\n",
            "/root/.fontconfig: not cleaning non-existent cache directory\n",
            "fc-cache: succeeded\n"
          ],
          "name": "stdout"
        }
      ]
    },
    {
      "cell_type": "markdown",
      "metadata": {
        "colab_type": "text",
        "id": "NqnAwOAqVH1-"
      },
      "source": [
        "다시 해보자"
      ]
    },
    {
      "cell_type": "code",
      "metadata": {
        "colab_type": "code",
        "id": "wSgjHfjwVJCQ",
        "outputId": "a15bcf07-dfae-4c88-c9c6-8f19f26224ee",
        "colab": {
          "base_uri": "https://localhost:8080/",
          "height": 422
        }
      },
      "source": [
        "plt.figure(figsize=(12, 6))\n",
        "sns.countplot(df_train['class'], order=df_train['class'].value_counts(ascending=True).index)\n",
        "plt.title('차 종류에 따른 데이터 수')"
      ],
      "execution_count": 26,
      "outputs": [
        {
          "output_type": "execute_result",
          "data": {
            "text/plain": [
              "Text(0.5, 1.0, '차 종류에 따른 데이터 수')"
            ]
          },
          "metadata": {
            "tags": []
          },
          "execution_count": 26
        },
        {
          "output_type": "display_data",
          "data": {
            "image/png": "[encoded data removed]",
            "text/plain": [
              "<Figure size 864x432 with 1 Axes>"
            ]
          },
          "metadata": {
            "tags": []
          }
        }
      ]
    },
    {
      "cell_type": "markdown",
      "metadata": {
        "colab_type": "text",
        "id": "aQkFcl1bVaBQ"
      },
      "source": [
        "또 안되네?"
      ]
    },
    {
      "cell_type": "code",
      "metadata": {
        "colab_type": "code",
        "id": "thxVJ69rVbeL",
        "colab": {}
      },
      "source": [
        "import matplotlib as mpl\n",
        "import matplotlib.pyplot as plt\n",
        "import matplotlib.font_manager as fm\n",
        "import numpy as np\n",
        "\t\n",
        "%matplotlib inline\n",
        "%config InlineBackend.figure_format = 'retina'\n",
        "\t\n",
        "mpl.rcParams['axes.unicode_minus'] = False\n",
        "# 그래프에서 마이너스 폰트 깨질 경우 대비\n",
        "\t\n",
        "path = '/usr/share/fonts/truetype/nanum/NanumGothicBold.ttf'\n",
        "fontprop = fm.FontProperties(fname=path, size=18)"
      ],
      "execution_count": 0,
      "outputs": []
    },
    {
      "cell_type": "code",
      "metadata": {
        "colab_type": "code",
        "id": "UgMZrhnpVjpm",
        "outputId": "5bcca5f3-fb72-4c83-de23-83c060c64e7f",
        "colab": {
          "base_uri": "https://localhost:8080/",
          "height": 421
        }
      },
      "source": [
        "plt.figure(figsize=(12, 6))\n",
        "sns.countplot(df_train['class'], order=df_train['class'].value_counts(ascending=True).index)\n",
        "plt.title('차 종류에 따른 데이터 수')"
      ],
      "execution_count": 28,
      "outputs": [
        {
          "output_type": "execute_result",
          "data": {
            "text/plain": [
              "Text(0.5, 1.0, '차 종류에 따른 데이터 수')"
            ]
          },
          "metadata": {
            "tags": []
          },
          "execution_count": 28
        },
        {
          "output_type": "display_data",
          "data": {
            "image/png": "[encoded data removed]",
            "text/plain": [
              "<Figure size 864x432 with 1 Axes>"
            ]
          },
          "metadata": {
            "tags": [],
            "image/png": {
              "width": 725,
              "height": 386
            }
          }
        }
      ]
    },
    {
      "cell_type": "code",
      "metadata": {
        "colab_type": "code",
        "id": "NtUXGhVlVuGQ",
        "outputId": "7dbc4055-46f0-426c-e0ab-bfb1d9a34e64",
        "colab": {
          "base_uri": "https://localhost:8080/",
          "height": 425
        }
      },
      "source": [
        "plt.figure(figsize=(12, 6))\n",
        "sns.countplot(df_train['class'], order=df_train['class'].value_counts(ascending=True).index)\n",
        "plt.title('차 종류에 따른 데이터 수', fontproperties=fontprop)"
      ],
      "execution_count": 29,
      "outputs": [
        {
          "output_type": "execute_result",
          "data": {
            "text/plain": [
              "Text(0.5, 1.0, '차 종류에 따른 데이터 수')"
            ]
          },
          "metadata": {
            "tags": []
          },
          "execution_count": 29
        },
        {
          "output_type": "display_data",
          "data": {
            "image/png": "[encoded data removed]",
            "text/plain": [
              "<Figure size 864x432 with 1 Axes>"
            ]
          },
          "metadata": {
            "tags": [],
            "image/png": {
              "width": 725,
              "height": 390
            }
          }
        }
      ]
    },
    {
      "cell_type": "markdown",
      "metadata": {
        "colab_type": "text",
        "id": "Mr0XDkovWLlU"
      },
      "source": [
        "* OLLEH!"
      ]
    },
    {
      "cell_type": "markdown",
      "metadata": {
        "colab_type": "text",
        "id": "VTXkRP4_WNdo"
      },
      "source": [
        "### 사진이 가장 많은 차종과 차종의 사진 카운트 개수 알아보기"
      ]
    },
    {
      "cell_type": "code",
      "metadata": {
        "colab_type": "code",
        "id": "wddn9YKtWqBY",
        "colab": {
          "base_uri": "https://localhost:8080/",
          "height": 1000
        },
        "outputId": "4dd03b5b-6e0d-44d1-9041-af0460af91e3"
      },
      "source": [
        "cntEachClass = df_train['class'].value_counts(ascending=False) #정렬 후\n",
        "print(type(cntEachClass))\n",
        "print(cntEachClass)"
      ],
      "execution_count": 31,
      "outputs": [
        {
          "output_type": "stream",
          "text": [
            "<class 'pandas.core.series.Series'>\n",
            "119    83\n",
            "79     60\n",
            "161    59\n",
            "167    59\n",
            "20     57\n",
            "171    57\n",
            "98     57\n",
            "182    57\n",
            "191    57\n",
            "144    57\n",
            "56     57\n",
            "65     56\n",
            "81     56\n",
            "82     56\n",
            "112    56\n",
            "72     56\n",
            "114    56\n",
            "162    56\n",
            "194    56\n",
            "115    56\n",
            "24     56\n",
            "148    56\n",
            "8      56\n",
            "73     55\n",
            "43     55\n",
            "109    55\n",
            "165    55\n",
            "1      55\n",
            "44     55\n",
            "6      55\n",
            "       ..\n",
            "62     46\n",
            "116    46\n",
            "49     46\n",
            "69     46\n",
            "39     45\n",
            "12     45\n",
            "60     45\n",
            "163    45\n",
            "150    45\n",
            "159    45\n",
            "157    45\n",
            "27     44\n",
            "41     44\n",
            "152    44\n",
            "42     43\n",
            "47     43\n",
            "141    42\n",
            "134    42\n",
            "26     42\n",
            "100    42\n",
            "10     41\n",
            "142    40\n",
            "45     40\n",
            "2      39\n",
            "71     38\n",
            "175    38\n",
            "64     37\n",
            "158    36\n",
            "99     34\n",
            "136    30\n",
            "Name: class, Length: 196, dtype: int64\n"
          ],
          "name": "stdout"
        }
      ]
    },
    {
      "cell_type": "code",
      "metadata": {
        "id": "ZaxUZIBVb2FI",
        "colab_type": "code",
        "colab": {
          "base_uri": "https://localhost:8080/",
          "height": 105
        },
        "outputId": "ff2e3c1f-834e-4c1a-cfae-3df1c2e823c9"
      },
      "source": [
        "print(\"Class with most count  : {}\".format(cntEachClass.index[0]))\n",
        "print(\"Most Count : {}\".format(cntEachClass.max()))\n",
        "\n",
        "print(\"Class with fewest count  : {}\".format(cntEachClass.index[-1]))\n",
        "print(\"Fewest Count : {}\".format(cntEachClass.min()))\n",
        "\n",
        "print(\"Mean  : {}\".format(cntEachClass.mean()))"
      ],
      "execution_count": 32,
      "outputs": [
        {
          "output_type": "stream",
          "text": [
            "Class with most count  : 119\n",
            "Most Count : 83\n",
            "Class with fewest count  : 136\n",
            "Fewest Count : 30\n",
            "Mean  : 50.96938775510204\n"
          ],
          "name": "stdout"
        }
      ]
    },
    {
      "cell_type": "markdown",
      "metadata": {
        "id": "npXwidqab_jO",
        "colab_type": "text"
      },
      "source": [
        "* 평균은 50.9번, 그러니까 대략 51번. \n",
        "* 가장 많은 사진이 있는 클래스는 index[0]으로\n",
        "* 가장 적은 사진의 클래스는 index[-1]로 맨 마지막 인덱스를 불러올 수 있습니다."
      ]
    },
    {
      "cell_type": "markdown",
      "metadata": {
        "id": "fnVKrTcXckue",
        "colab_type": "text"
      },
      "source": [
        "* 근데 더 쉬운 방법이 있음"
      ]
    },
    {
      "cell_type": "code",
      "metadata": {
        "id": "DvK7jkj6cdhc",
        "colab_type": "code",
        "colab": {
          "base_uri": "https://localhost:8080/",
          "height": 175
        },
        "outputId": "42c58cfc-b783-499d-fdba-360d02dd20cb"
      },
      "source": [
        "cntEachClass.describe()"
      ],
      "execution_count": 33,
      "outputs": [
        {
          "output_type": "execute_result",
          "data": {
            "text/plain": [
              "count    196.000000\n",
              "mean      50.969388\n",
              "std        5.374115\n",
              "min       30.000000\n",
              "25%       48.000000\n",
              "50%       52.000000\n",
              "75%       54.000000\n",
              "max       83.000000\n",
              "Name: class, dtype: float64"
            ]
          },
          "metadata": {
            "tags": []
          },
          "execution_count": 33
        }
      ]
    },
    {
      "cell_type": "code",
      "metadata": {
        "id": "vffSczz3co0J",
        "colab_type": "code",
        "colab": {}
      },
      "source": [
        "## 이미지 시각화"
      ],
      "execution_count": 0,
      "outputs": []
    },
    {
      "cell_type": "markdown",
      "metadata": {
        "colab_type": "text",
        "id": "HRPhpOAGNihS"
      },
      "source": [
        "# 모델"
      ]
    },
    {
      "cell_type": "markdown",
      "metadata": {
        "colab_type": "text",
        "id": "KMvfXb0RNkxw"
      },
      "source": [
        "# 제출"
      ]
    },
    {
      "cell_type": "code",
      "metadata": {
        "colab_type": "code",
        "id": "AvSnvBV0Nq4N",
        "colab": {}
      },
      "source": [
        ""
      ],
      "execution_count": 0,
      "outputs": []
    }
  ]
}